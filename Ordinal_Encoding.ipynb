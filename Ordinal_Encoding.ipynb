{
 "cells": [
  {
   "cell_type": "code",
   "execution_count": null,
   "id": "50fedc3b-b58b-47b0-b7ca-59236f6c0767",
   "metadata": {},
   "outputs": [],
   "source": []
  },
  {
   "cell_type": "code",
   "execution_count": 1,
   "id": "2af34f8d-462e-40ee-b931-e420eb725de6",
   "metadata": {},
   "outputs": [],
   "source": [
    "import pandas as pd"
   ]
  },
  {
   "cell_type": "code",
   "execution_count": 3,
   "id": "d363213f-d469-453d-b210-4513b476db72",
   "metadata": {},
   "outputs": [],
   "source": [
    "# Sample Data\n",
    "\n",
    "data = {\n",
    "    'CustomerID' :['C001','C002','C003','C004','C005','C006','C007','C008'],\n",
    "    'Education_Level' : ['High School','Bachelors','Masters','Phd','Bachelors','High School','Masters','Phd'],\n",
    "    'Product_Quality' : ['Low','Medium','High','Low','Medium','High','Low','Medium'],\n",
    "    'Satisfaction_Level' : ['Poor','Average','Good','Excellent','Good','Average','Poor','Excellent']\n",
    "}\n",
    "\n",
    "df = pd.DataFrame(data)"
   ]
  },
  {
   "cell_type": "code",
   "execution_count": 4,
   "id": "23b11a3f-1df4-4ee7-a729-388d941cac74",
   "metadata": {},
   "outputs": [
    {
     "data": {
      "text/html": [
       "<div>\n",
       "<style scoped>\n",
       "    .dataframe tbody tr th:only-of-type {\n",
       "        vertical-align: middle;\n",
       "    }\n",
       "\n",
       "    .dataframe tbody tr th {\n",
       "        vertical-align: top;\n",
       "    }\n",
       "\n",
       "    .dataframe thead th {\n",
       "        text-align: right;\n",
       "    }\n",
       "</style>\n",
       "<table border=\"1\" class=\"dataframe\">\n",
       "  <thead>\n",
       "    <tr style=\"text-align: right;\">\n",
       "      <th></th>\n",
       "      <th>CustomerID</th>\n",
       "      <th>Education_Level</th>\n",
       "      <th>Product_Quality</th>\n",
       "      <th>Satisfaction_Level</th>\n",
       "    </tr>\n",
       "  </thead>\n",
       "  <tbody>\n",
       "    <tr>\n",
       "      <th>0</th>\n",
       "      <td>C001</td>\n",
       "      <td>High School</td>\n",
       "      <td>Low</td>\n",
       "      <td>Poor</td>\n",
       "    </tr>\n",
       "    <tr>\n",
       "      <th>1</th>\n",
       "      <td>C002</td>\n",
       "      <td>Bachelors</td>\n",
       "      <td>Medium</td>\n",
       "      <td>Average</td>\n",
       "    </tr>\n",
       "    <tr>\n",
       "      <th>2</th>\n",
       "      <td>C003</td>\n",
       "      <td>Masters</td>\n",
       "      <td>High</td>\n",
       "      <td>Good</td>\n",
       "    </tr>\n",
       "    <tr>\n",
       "      <th>3</th>\n",
       "      <td>C004</td>\n",
       "      <td>Phd</td>\n",
       "      <td>Low</td>\n",
       "      <td>Excellent</td>\n",
       "    </tr>\n",
       "    <tr>\n",
       "      <th>4</th>\n",
       "      <td>C005</td>\n",
       "      <td>Bachelors</td>\n",
       "      <td>Medium</td>\n",
       "      <td>Good</td>\n",
       "    </tr>\n",
       "    <tr>\n",
       "      <th>5</th>\n",
       "      <td>C006</td>\n",
       "      <td>High School</td>\n",
       "      <td>High</td>\n",
       "      <td>Average</td>\n",
       "    </tr>\n",
       "    <tr>\n",
       "      <th>6</th>\n",
       "      <td>C007</td>\n",
       "      <td>Masters</td>\n",
       "      <td>Low</td>\n",
       "      <td>Poor</td>\n",
       "    </tr>\n",
       "    <tr>\n",
       "      <th>7</th>\n",
       "      <td>C008</td>\n",
       "      <td>Phd</td>\n",
       "      <td>Medium</td>\n",
       "      <td>Excellent</td>\n",
       "    </tr>\n",
       "  </tbody>\n",
       "</table>\n",
       "</div>"
      ],
      "text/plain": [
       "  CustomerID Education_Level Product_Quality Satisfaction_Level\n",
       "0       C001     High School             Low               Poor\n",
       "1       C002       Bachelors          Medium            Average\n",
       "2       C003         Masters            High               Good\n",
       "3       C004             Phd             Low          Excellent\n",
       "4       C005       Bachelors          Medium               Good\n",
       "5       C006     High School            High            Average\n",
       "6       C007         Masters             Low               Poor\n",
       "7       C008             Phd          Medium          Excellent"
      ]
     },
     "execution_count": 4,
     "metadata": {},
     "output_type": "execute_result"
    }
   ],
   "source": [
    "df"
   ]
  },
  {
   "cell_type": "code",
   "execution_count": 5,
   "id": "1e70a56e-ba4e-4390-b1f9-c1f93ea0a34f",
   "metadata": {},
   "outputs": [],
   "source": [
    "# Define the order for ordinal Feature \n",
    "\n",
    "education_order = ['High School','Bachelors','Masters','Phd']\n",
    "product_quality_order = ['Low','Medium','High']\n",
    "satisfaction_order = ['Poor','Average','Good','Excellent']\n"
   ]
  },
  {
   "cell_type": "code",
   "execution_count": 6,
   "id": "d5d63db8-0037-4165-81fd-2827cd8e4534",
   "metadata": {},
   "outputs": [],
   "source": [
    "from sklearn.preprocessing import OrdinalEncoder"
   ]
  },
  {
   "cell_type": "code",
   "execution_count": 7,
   "id": "da5216f8-f0ce-44e0-8e51-ede0662c80c9",
   "metadata": {},
   "outputs": [],
   "source": [
    "encoder = OrdinalEncoder(categories = [education_order,product_quality_order,satisfaction_order])"
   ]
  },
  {
   "cell_type": "code",
   "execution_count": 8,
   "id": "48f10478-f192-49fd-80c6-92e8bccc02f2",
   "metadata": {},
   "outputs": [],
   "source": [
    "# Apply encoding(skip CustomerID as it is identifier)\n",
    "\n",
    "df[['Education_Level','Product_Quality','Satisfaction_Level']] = encoder.fit_transform( df[['Education_Level','Product_Quality','Satisfaction_Level']])\n",
    "    \n",
    "\n",
    " "
   ]
  },
  {
   "cell_type": "code",
   "execution_count": 9,
   "id": "0a3c1a77-56e9-42e0-bb45-ed6b362a07bc",
   "metadata": {},
   "outputs": [
    {
     "data": {
      "text/html": [
       "<div>\n",
       "<style scoped>\n",
       "    .dataframe tbody tr th:only-of-type {\n",
       "        vertical-align: middle;\n",
       "    }\n",
       "\n",
       "    .dataframe tbody tr th {\n",
       "        vertical-align: top;\n",
       "    }\n",
       "\n",
       "    .dataframe thead th {\n",
       "        text-align: right;\n",
       "    }\n",
       "</style>\n",
       "<table border=\"1\" class=\"dataframe\">\n",
       "  <thead>\n",
       "    <tr style=\"text-align: right;\">\n",
       "      <th></th>\n",
       "      <th>CustomerID</th>\n",
       "      <th>Education_Level</th>\n",
       "      <th>Product_Quality</th>\n",
       "      <th>Satisfaction_Level</th>\n",
       "    </tr>\n",
       "  </thead>\n",
       "  <tbody>\n",
       "    <tr>\n",
       "      <th>0</th>\n",
       "      <td>C001</td>\n",
       "      <td>0.0</td>\n",
       "      <td>0.0</td>\n",
       "      <td>0.0</td>\n",
       "    </tr>\n",
       "    <tr>\n",
       "      <th>1</th>\n",
       "      <td>C002</td>\n",
       "      <td>1.0</td>\n",
       "      <td>1.0</td>\n",
       "      <td>1.0</td>\n",
       "    </tr>\n",
       "    <tr>\n",
       "      <th>2</th>\n",
       "      <td>C003</td>\n",
       "      <td>2.0</td>\n",
       "      <td>2.0</td>\n",
       "      <td>2.0</td>\n",
       "    </tr>\n",
       "    <tr>\n",
       "      <th>3</th>\n",
       "      <td>C004</td>\n",
       "      <td>3.0</td>\n",
       "      <td>0.0</td>\n",
       "      <td>3.0</td>\n",
       "    </tr>\n",
       "    <tr>\n",
       "      <th>4</th>\n",
       "      <td>C005</td>\n",
       "      <td>1.0</td>\n",
       "      <td>1.0</td>\n",
       "      <td>2.0</td>\n",
       "    </tr>\n",
       "    <tr>\n",
       "      <th>5</th>\n",
       "      <td>C006</td>\n",
       "      <td>0.0</td>\n",
       "      <td>2.0</td>\n",
       "      <td>1.0</td>\n",
       "    </tr>\n",
       "    <tr>\n",
       "      <th>6</th>\n",
       "      <td>C007</td>\n",
       "      <td>2.0</td>\n",
       "      <td>0.0</td>\n",
       "      <td>0.0</td>\n",
       "    </tr>\n",
       "    <tr>\n",
       "      <th>7</th>\n",
       "      <td>C008</td>\n",
       "      <td>3.0</td>\n",
       "      <td>1.0</td>\n",
       "      <td>3.0</td>\n",
       "    </tr>\n",
       "  </tbody>\n",
       "</table>\n",
       "</div>"
      ],
      "text/plain": [
       "  CustomerID  Education_Level  Product_Quality  Satisfaction_Level\n",
       "0       C001              0.0              0.0                 0.0\n",
       "1       C002              1.0              1.0                 1.0\n",
       "2       C003              2.0              2.0                 2.0\n",
       "3       C004              3.0              0.0                 3.0\n",
       "4       C005              1.0              1.0                 2.0\n",
       "5       C006              0.0              2.0                 1.0\n",
       "6       C007              2.0              0.0                 0.0\n",
       "7       C008              3.0              1.0                 3.0"
      ]
     },
     "execution_count": 9,
     "metadata": {},
     "output_type": "execute_result"
    }
   ],
   "source": [
    "df"
   ]
  },
  {
   "cell_type": "code",
   "execution_count": null,
   "id": "74fe34cf-bfe4-4edb-8e0e-582c8bea5acf",
   "metadata": {},
   "outputs": [],
   "source": []
  }
 ],
 "metadata": {
  "kernelspec": {
   "display_name": "Python 3 (ipykernel)",
   "language": "python",
   "name": "python3"
  },
  "language_info": {
   "codemirror_mode": {
    "name": "ipython",
    "version": 3
   },
   "file_extension": ".py",
   "mimetype": "text/x-python",
   "name": "python",
   "nbconvert_exporter": "python",
   "pygments_lexer": "ipython3",
   "version": "3.13.3"
  }
 },
 "nbformat": 4,
 "nbformat_minor": 5
}
